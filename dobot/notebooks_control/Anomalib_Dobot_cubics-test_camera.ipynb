{
 "cells": [
  {
   "cell_type": "markdown",
   "id": "92448b5a",
   "metadata": {},
   "source": [
    "## Anomalib E2E demo"
   ]
  },
  {
   "cell_type": "markdown",
   "id": "ecfdde70",
   "metadata": {},
   "source": [
    "Using the [Dobot Magician](https://www.dobot.cc/dobot-magician/product-overview.html) we could simulate a production line system. Imagine we have a cubes factory and they need to know when a defect piece appear in the process. We know very well what is the aspecto of the normal cubes. Defects are coming no often and we need to put those defect cubes out of the production line.\n",
    "\n",
    "<img src=\"https://user-images.githubusercontent.com/10940214/174126337-b344bbdc-6343-4d85-93e8-0cb1bf39a4e3.png\" alt=\"drawing\" style=\"width:400px;\"/>\n",
    "\n",
    "\n",
    "| Class | Yellow cube | Red cube | Green cube | Inferencing using Anomalib\n",
    "| --------------------------------------------------------------------------------------- | --------------------------------------------------------------------------------------- | ------------------------------------------------------------------------------ | --------------------------------------------------------------------------- | --------------------------------------------------------------------------- |\n",
    "| Normal | <img src=\"https://user-images.githubusercontent.com/10940214/174083561-38eec918-efc2-4ceb-99b1-bbb4c91396b2.jpg\" alt=\"drawing\" style=\"width:150px;\"/> | <img src=\"https://user-images.githubusercontent.com/10940214/174083638-85ff889c-6222-4428-9c7d-9ad62bd15afe.jpg\" alt=\"drawing\" style=\"width:150px;\"/> | <img src=\"https://user-images.githubusercontent.com/10940214/174083707-364177d4-373b-4891-96ce-3e5ea923e440.jpg\" alt=\"drawing\" style=\"width:150px;\"/> | <img src=\"https://user-images.githubusercontent.com/10940214/174129305-03d9b71c-dfd9-492f-b42e-01c5c24171cc.jpg\" alt=\"drawing\" style=\"width:150px;\"/> |\n",
    "| Abnormal | <img src=\"https://user-images.githubusercontent.com/10940214/174083805-df0a0b03-58c7-4ba8-af50-fd94d3a13e58.jpg\" alt=\"drawing\" style=\"width:150px;\"/> | <img src=\"https://user-images.githubusercontent.com/10940214/174083873-22699523-22b4-4a55-a3da-6520095af8af.jpg\" alt=\"drawing\" style=\"width:150px;\"/> | <img src=\"https://user-images.githubusercontent.com/10940214/174083944-38d5a6f4-f647-455b-ba4e-69482dfa3562.jpg\" alt=\"drawing\" style=\"width:150px;\"/> | <img src=\"https://user-images.githubusercontent.com/10940214/174129253-f7a567d0-84f7-4050-8065-f00ba8bb973d.jpg\" alt=\"drawing\" style=\"width:150px;\"/> | \n",
    "\n",
    "Using Anomalib we are expecting to see this result.\n"
   ]
  },
  {
   "cell_type": "code",
   "execution_count": null,
   "id": "dc20e36d",
   "metadata": {},
   "outputs": [],
   "source": [
    "import threading\n",
    "import DobotDllType as dType\n",
    "import cv2\n",
    "\n",
    "import collections\n",
    "import os\n",
    "import sys\n",
    "import time\n",
    "\n",
    "import numpy as np\n",
    "from IPython import display\n",
    "\n",
    "from datetime import datetime"
   ]
  },
  {
   "cell_type": "code",
   "execution_count": null,
   "id": "78aa3bce",
   "metadata": {
    "scrolled": true
   },
   "outputs": [],
   "source": [
    "def filename_fc(acquisition, folder):\n",
    "    now = datetime.now()\n",
    "    print(acquisition)\n",
    "    print(folder)\n",
    "    if not acquisition:\n",
    "        filename = \"C:/Intel/anomalib/datasets/cubes_testing/testing/inferencing.jpg\"\n",
    "        return filename\n",
    "    \n",
    "    if folder == \"abnormal\":\n",
    "        filename = \"C:/Intel/anomalib/datasets/cubes/anormal/input_\" + str(now.strftime(\"%Y%m%d%H%M%S\")) + \".jpg\"\n",
    "    elif folder == \"normal\":\n",
    "        filename = \"C:/Intel/anomalib/datasets/cubes/normal/input_\" + str(now.strftime(\"%Y%m%d%H%M%S\")) + \".jpg\"\n",
    "    print(filename)\n",
    "    return filename  \n",
    "\n",
    "def capture_image(filename):\n",
    "    # 1.creating a video object\n",
    "    print(\"Capturing image...\"+filename)\n",
    "    video = cv2.VideoCapture(0) \n",
    "    check, frame = video.read()\n",
    "    showPic = cv2.imwrite(filename,frame)\n",
    "    video.release()\n",
    "\n",
    "def inference(filename):\n",
    "    !python \"C:\\Intel\\anomalib\\tools\\inference.py\" \\\n",
    "    --config \"C:\\Intel\\anomalib\\anomalib\\models\\padim\\cubes_config.yaml\" \\\n",
    "    --weight_path \"C:\\Intel\\anomalib\\notebooks\\001-getting-started\\results\\padim\\cubes\\weights\\model-v5.ckpt\" \\\n",
    "    --image_path \"C:\\Intel\\anomalib\\datasets\\cubes_testing\\testing\\inferencing.jpg\" \\\n",
    "    --save_path \"C:\\Intel\\anomalib\\datasets\\cubes_testing\\results\\inferencing.jpg\" \n",
    "    \n",
    "    f = open(\"C:/Intel/anomalib/datasets/cubes_testing/results/anomalous.txt\", \"r\")\n",
    "    text = f.read()\n",
    "    print(text)\n",
    "    f.close()\n",
    "    return float(text)"
   ]
  },
  {
   "cell_type": "code",
   "execution_count": null,
   "id": "0af9abcb",
   "metadata": {},
   "outputs": [],
   "source": [
    "acquisition = True #True False\n",
    "folder = \"normal\" #abnormal normal"
   ]
  },
  {
   "cell_type": "code",
   "execution_count": null,
   "id": "5bc77203",
   "metadata": {},
   "outputs": [],
   "source": [
    "filename, resultname = filename_fc(acquisition, folder)\n",
    "capture_image(filename)"
   ]
  },
  {
   "cell_type": "code",
   "execution_count": 2,
   "id": "e3f54015",
   "metadata": {},
   "outputs": [
    {
     "name": "stdout",
     "output_type": "stream",
     "text": [
      "0.5672567486763\n"
     ]
    },
    {
     "name": "stderr",
     "output_type": "stream",
     "text": [
      "C:\\Intel\\anomalib_env\\lib\\site-packages\\torchmetrics\\utilities\\prints.py:36: UserWarning: Torchmetrics v0.9 introduced a new argument class property called `full_state_update` that has\n",
      "                not been set for this class (AdaptiveThreshold). The property determines if `update` by\n",
      "                default needs access to the full metric state. If this is not the case, significant speedups can be\n",
      "                achieved and we recommend setting this to `False`.\n",
      "                We provide an checking function\n",
      "                `from torchmetrics.utilities import check_forward_no_full_state`\n",
      "                that can be used to check if the `full_state_update=True` (old and potential slower behaviour,\n",
      "                default for now) or if `full_state_update=False` can be used safely.\n",
      "                \n",
      "  warnings.warn(*args, **kwargs)\n",
      "C:\\Intel\\anomalib_env\\lib\\site-packages\\torchmetrics\\utilities\\prints.py:36: UserWarning: Metric `PrecisionRecallCurve` will save all targets and predictions in buffer. For large datasets this may lead to large memory footprint.\n",
      "  warnings.warn(*args, **kwargs)\n",
      "C:\\Intel\\anomalib_env\\lib\\site-packages\\torchmetrics\\utilities\\prints.py:36: UserWarning: Torchmetrics v0.9 introduced a new argument class property called `full_state_update` that has\n",
      "                not been set for this class (AnomalyScoreDistribution). The property determines if `update` by\n",
      "                default needs access to the full metric state. If this is not the case, significant speedups can be\n",
      "                achieved and we recommend setting this to `False`.\n",
      "                We provide an checking function\n",
      "                `from torchmetrics.utilities import check_forward_no_full_state`\n",
      "                that can be used to check if the `full_state_update=True` (old and potential slower behaviour,\n",
      "                default for now) or if `full_state_update=False` can be used safely.\n",
      "                \n",
      "  warnings.warn(*args, **kwargs)\n",
      "C:\\Intel\\anomalib_env\\lib\\site-packages\\torchmetrics\\utilities\\prints.py:36: UserWarning: Torchmetrics v0.9 introduced a new argument class property called `full_state_update` that has\n",
      "                not been set for this class (MinMax). The property determines if `update` by\n",
      "                default needs access to the full metric state. If this is not the case, significant speedups can be\n",
      "                achieved and we recommend setting this to `False`.\n",
      "                We provide an checking function\n",
      "                `from torchmetrics.utilities import check_forward_no_full_state`\n",
      "                that can be used to check if the `full_state_update=True` (old and potential slower behaviour,\n",
      "                default for now) or if `full_state_update=False` can be used safely.\n",
      "                \n",
      "  warnings.warn(*args, **kwargs)\n"
     ]
    },
    {
     "ename": "SyntaxError",
     "evalue": "'return' outside function (3822936702.py, line 7)",
     "output_type": "error",
     "traceback": [
      "\u001b[1;36m  Input \u001b[1;32mIn [2]\u001b[1;36m\u001b[0m\n\u001b[1;33m    return float(text)\u001b[0m\n\u001b[1;37m    ^\u001b[0m\n\u001b[1;31mSyntaxError\u001b[0m\u001b[1;31m:\u001b[0m 'return' outside function\n"
     ]
    }
   ],
   "source": [
    "!python \"C:\\Intel\\anomalib\\tools\\inference.py\" \\\n",
    "--config \"C:\\Intel\\anomalib\\anomalib\\models\\padim\\cubes_config.yaml\" \\\n",
    "--weight_path \"C:\\Intel\\anomalib\\notebooks\\001-getting-started\\results\\padim\\cubes\\weights\\model-v5.ckpt\" \\\n",
    "--image_path \"C:\\Intel\\anomalib\\datasets\\cubes\\anormal\\input_20220618234136.jpg\" \\\n",
    "--save_path \"C:\\Intel\\anomalib\\datasets\\cubes_testing\\results\\inferencing.jpg\" \n",
    "\n",
    "f = open(\"C:/Intel/anomalib/datasets/cubes_testing/results/anomalous.txt\", \"r\")\n",
    "text = f.read()\n",
    "print(text)\n",
    "f.close()"
   ]
  },
  {
   "cell_type": "code",
   "execution_count": null,
   "id": "6d1a5a6c",
   "metadata": {},
   "outputs": [],
   "source": [
    "python \"C:\\Intel\\anomalib\\tools\\inference.py\" --config \"C:\\Intel\\anomalib\\anomalib\\models\\padim\\cubes_config.yaml\" --weight_path \"C:\\Intel\\anomalib\\notebooks\\001-getting-started\\results\\padim\\cubes\\weights\\model-v5.ckpt\" --image_path \"C:\\Intel\\anomalib\\datasets\\cubes\\anormal\\input_20220619130402.jpg\" --save_path \"C:\\Intel\\anomalib\\datasets\\cubes_testing\\results\\inferencing.jpg\""
   ]
  }
 ],
 "metadata": {
  "kernelspec": {
   "display_name": "Python 3 (ipykernel)",
   "language": "python",
   "name": "python3"
  },
  "language_info": {
   "codemirror_mode": {
    "name": "ipython",
    "version": 3
   },
   "file_extension": ".py",
   "mimetype": "text/x-python",
   "name": "python",
   "nbconvert_exporter": "python",
   "pygments_lexer": "ipython3",
   "version": "3.9.13"
  }
 },
 "nbformat": 4,
 "nbformat_minor": 5
}
