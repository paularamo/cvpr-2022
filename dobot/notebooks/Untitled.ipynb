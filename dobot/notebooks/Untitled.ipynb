{
 "cells": [
  {
   "cell_type": "code",
   "execution_count": 11,
   "id": "622d3446",
   "metadata": {},
   "outputs": [
    {
     "name": "stdout",
     "output_type": "stream",
     "text": [
      "['input_20220613161052.jpg', 'input_20220613161106.jpg', 'input_20220613161120.jpg', 'input_20220613161149.jpg', 'input_20220613161203.jpg', 'input_20220613161217.jpg', 'input_20220613161231.jpg', 'input_20220613161357.jpg', 'input_20220613161412.jpg', 'input_20220613161426.jpg', 'input_20220613161440.jpg', 'input_20220613161454.jpg', 'input_20220613161508.jpg', 'input_20220613161522.jpg', 'input_20220613161537.jpg', 'input_20220613161550.jpg', 'input_20220613195850.jpg', 'input_20220613195904.jpg', 'input_20220613195918.jpg', 'input_20220613195932.jpg', 'input_20220613195946.jpg', 'input_20220613200000.jpg', 'input_20220613200013.jpg', 'input_20220613200027.jpg', 'input_20220614083756.jpg', 'input_20220614104634.jpg', 'input_20220614105934.jpg', 'input_20220614135209.jpg', 'input_20220614135227.jpg', 'input_20220614135242.jpg', 'input_20220614135257.jpg', 'input_20220614135312.jpg', 'input_20220614135327.jpg', 'input_20220614135343.jpg', 'input_20220614135358.jpg', 'input_20220614135413.jpg']\n",
      "C:/Intel/anomalib/datasets/cubes/normal/input_20220613161052.jpg\n",
      "C:/Intel/anomalib/datasets/cubes/normal/input_20220613161106.jpg\n",
      "C:/Intel/anomalib/datasets/cubes/normal/input_20220613161120.jpg\n",
      "C:/Intel/anomalib/datasets/cubes/normal/input_20220613161149.jpg\n",
      "C:/Intel/anomalib/datasets/cubes/normal/input_20220613161203.jpg\n",
      "C:/Intel/anomalib/datasets/cubes/normal/input_20220613161217.jpg\n",
      "C:/Intel/anomalib/datasets/cubes/normal/input_20220613161231.jpg\n",
      "C:/Intel/anomalib/datasets/cubes/normal/input_20220613161357.jpg\n",
      "C:/Intel/anomalib/datasets/cubes/normal/input_20220613161412.jpg\n",
      "C:/Intel/anomalib/datasets/cubes/normal/input_20220613161426.jpg\n",
      "C:/Intel/anomalib/datasets/cubes/normal/input_20220613161440.jpg\n",
      "C:/Intel/anomalib/datasets/cubes/normal/input_20220613161454.jpg\n",
      "C:/Intel/anomalib/datasets/cubes/normal/input_20220613161508.jpg\n",
      "C:/Intel/anomalib/datasets/cubes/normal/input_20220613161522.jpg\n",
      "C:/Intel/anomalib/datasets/cubes/normal/input_20220613161537.jpg\n",
      "C:/Intel/anomalib/datasets/cubes/normal/input_20220613161550.jpg\n",
      "C:/Intel/anomalib/datasets/cubes/normal/input_20220613195850.jpg\n",
      "C:/Intel/anomalib/datasets/cubes/normal/input_20220613195904.jpg\n",
      "C:/Intel/anomalib/datasets/cubes/normal/input_20220613195918.jpg\n",
      "C:/Intel/anomalib/datasets/cubes/normal/input_20220613195932.jpg\n",
      "C:/Intel/anomalib/datasets/cubes/normal/input_20220613195946.jpg\n",
      "C:/Intel/anomalib/datasets/cubes/normal/input_20220613200000.jpg\n",
      "C:/Intel/anomalib/datasets/cubes/normal/input_20220613200013.jpg\n",
      "C:/Intel/anomalib/datasets/cubes/normal/input_20220613200027.jpg\n",
      "C:/Intel/anomalib/datasets/cubes/normal/input_20220614083756.jpg\n",
      "C:/Intel/anomalib/datasets/cubes/normal/input_20220614104634.jpg\n",
      "C:/Intel/anomalib/datasets/cubes/normal/input_20220614105934.jpg\n",
      "C:/Intel/anomalib/datasets/cubes/normal/input_20220614135209.jpg\n",
      "C:/Intel/anomalib/datasets/cubes/normal/input_20220614135227.jpg\n",
      "C:/Intel/anomalib/datasets/cubes/normal/input_20220614135242.jpg\n",
      "C:/Intel/anomalib/datasets/cubes/normal/input_20220614135257.jpg\n",
      "C:/Intel/anomalib/datasets/cubes/normal/input_20220614135312.jpg\n",
      "C:/Intel/anomalib/datasets/cubes/normal/input_20220614135327.jpg\n",
      "C:/Intel/anomalib/datasets/cubes/normal/input_20220614135343.jpg\n",
      "C:/Intel/anomalib/datasets/cubes/normal/input_20220614135358.jpg\n",
      "C:/Intel/anomalib/datasets/cubes/normal/input_20220614135413.jpg\n",
      "Images resized Successfully\n"
     ]
    }
   ],
   "source": [
    "!python resized.py --image \"C:/Intel/anomalib/datasets/cubes/normal/\""
   ]
  },
  {
   "cell_type": "code",
   "execution_count": null,
   "id": "7db726ae",
   "metadata": {},
   "outputs": [],
   "source": []
  }
 ],
 "metadata": {
  "kernelspec": {
   "display_name": "Python 3 (ipykernel)",
   "language": "python",
   "name": "python3"
  },
  "language_info": {
   "codemirror_mode": {
    "name": "ipython",
    "version": 3
   },
   "file_extension": ".py",
   "mimetype": "text/x-python",
   "name": "python",
   "nbconvert_exporter": "python",
   "pygments_lexer": "ipython3",
   "version": "3.9.13"
  }
 },
 "nbformat": 4,
 "nbformat_minor": 5
}
